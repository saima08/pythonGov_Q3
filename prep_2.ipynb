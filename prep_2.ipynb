{
  "nbformat": 4,
  "nbformat_minor": 0,
  "metadata": {
    "colab": {
      "provenance": [],
      "authorship_tag": "ABX9TyPZhdsT4w2uoZ1Fn1Cy2EJT",
      "include_colab_link": true
    },
    "kernelspec": {
      "name": "python3",
      "display_name": "Python 3"
    },
    "language_info": {
      "name": "python"
    }
  },
  "cells": [
    {
      "cell_type": "markdown",
      "metadata": {
        "id": "view-in-github",
        "colab_type": "text"
      },
      "source": [
        "<a href=\"https://colab.research.google.com/github/saima08/pythonGov_Q3/blob/main/prep_2.ipynb\" target=\"_parent\"><img src=\"https://colab.research.google.com/assets/colab-badge.svg\" alt=\"Open In Colab\"/></a>"
      ]
    },
    {
      "cell_type": "code",
      "execution_count": null,
      "metadata": {
        "id": "kwyyt6-uSDli"
      },
      "outputs": [],
      "source": []
    },
    {
      "cell_type": "markdown",
      "source": [
        "SIR HAMZA CLASS-4"
      ],
      "metadata": {
        "id": "Ke_FW62bSS2C"
      }
    },
    {
      "cell_type": "code",
      "source": [
        "is_hungry = True\n",
        "burger_lover = True\n",
        "pizza_lover = False\n",
        "if(is_hungry and burger_lover):\n",
        "  print(\"Let's order the Food\")\n"
      ],
      "metadata": {
        "colab": {
          "base_uri": "https://localhost:8080/"
        },
        "id": "3XI23WLZc40V",
        "outputId": "7a5cf55f-c23c-41eb-f6cb-5e78e0167c5d"
      },
      "execution_count": null,
      "outputs": [
        {
          "output_type": "stream",
          "name": "stdout",
          "text": [
            "Let's order the Food\n"
          ]
        }
      ]
    },
    {
      "cell_type": "code",
      "source": [
        "is_hungry = False\n",
        "burger_lover = False\n",
        "pizza_lover = True\n",
        "if(is_hungry and pizza_lover or burger_lover):\n",
        "  print(\"Let's order the Food\")\n",
        "elif(\"is_hungry\"):\n",
        "  print(\"let's go to sleep\")\n",
        "else:\n",
        "  print(\"not Hungry\")"
      ],
      "metadata": {
        "colab": {
          "base_uri": "https://localhost:8080/"
        },
        "id": "tiL9tYczhaj_",
        "outputId": "74479d3d-6af8-4195-a1c5-849da3ff1b25"
      },
      "execution_count": null,
      "outputs": [
        {
          "output_type": "stream",
          "name": "stdout",
          "text": [
            "let's go to sleep\n"
          ]
        }
      ]
    },
    {
      "cell_type": "markdown",
      "source": [
        "**LIST\n",
        "**"
      ],
      "metadata": {
        "id": "E-KQFPiPw0OS"
      }
    },
    {
      "cell_type": "code",
      "source": [
        "# LIST\n",
        "item_1: str= \"egg\"\n",
        "item_2: str= \"jam\"\n",
        "item_4: str= \"tea\"\n",
        "list: list =[]\n",
        "print(list)"
      ],
      "metadata": {
        "colab": {
          "base_uri": "https://localhost:8080/"
        },
        "id": "fEpRxCBmw8hE",
        "outputId": "e825268c-6f53-4021-ecd1-71e79355ac6e"
      },
      "execution_count": null,
      "outputs": [
        {
          "output_type": "stream",
          "name": "stdout",
          "text": [
            "[]\n"
          ]
        }
      ]
    },
    {
      "cell_type": "code",
      "source": [
        "shopping_list = [\"egg\", \"jam\", \"tea\",\"paratha\",\"salan\"]\n",
        "print(shopping_list[2])\n",
        "print(shopping_list[1])\n",
        "print(shopping_list[4])\n",
        "print(len(shopping_list))"
      ],
      "metadata": {
        "colab": {
          "base_uri": "https://localhost:8080/"
        },
        "id": "0gdpVIcQ2fF9",
        "outputId": "d871b8d3-00b3-4851-f54f-a0ada6209b2b"
      },
      "execution_count": null,
      "outputs": [
        {
          "output_type": "stream",
          "name": "stdout",
          "text": [
            "tea\n",
            "jam\n",
            "salan\n",
            "5\n"
          ]
        }
      ]
    },
    {
      "cell_type": "code",
      "source": [
        " #slice(jo number likha he us se pehle print hoga.)\n",
        "shopping_list2 = [\"egg\", \"jam\", \"tea\",\"paratha\",\"salan\",\"dahi\"]\n",
        "print(shopping_list2[0:3])\n",
        "\n",
        "shopping_list2 = [\"egg\", \"jam\", \"tea\",\"paratha\",\"salan\",\"dahi\"]\n",
        "print(shopping_list2[3])\n",
        "\n",
        "shopping_list2 = [\"egg\", \"jam\", \"tea\",\"paratha\",\"salan\",\"dahi\"]\n",
        "print(shopping_list2[4])\n",
        "\n",
        "shopping_list2 = [\"egg\", \"jam\", \"tea\",\"paratha\",\"salan\",\"dahi\"]\n",
        "print(\"dahi\" in shopping_list2)\n",
        "print(\"dahi bare\" in shopping_list2)"
      ],
      "metadata": {
        "colab": {
          "base_uri": "https://localhost:8080/"
        },
        "id": "gx9pB191jw3H",
        "outputId": "44e75911-d026-4702-dfe6-58feccd8b4c2"
      },
      "execution_count": null,
      "outputs": [
        {
          "output_type": "stream",
          "name": "stdout",
          "text": [
            "['egg', 'jam', 'tea']\n",
            "paratha\n",
            "salan\n",
            "True\n",
            "False\n"
          ]
        }
      ]
    },
    {
      "cell_type": "code",
      "source": [
        "#REMOVE\n",
        "subject_list= [\"eng\",\"urdu\",\"arbi\",\"math\",\"arts\"]\n",
        "subject_list.remove(\"urdu\")\n",
        "print(subject_list)\n",
        "subject_list.remove(\"eng\")\n",
        "print(subject_list)\n"
      ],
      "metadata": {
        "id": "j1GJ-9n6vePQ",
        "colab": {
          "base_uri": "https://localhost:8080/"
        },
        "outputId": "17dab7dc-fcb8-4f2c-e778-b61e69c16f19"
      },
      "execution_count": null,
      "outputs": [
        {
          "output_type": "stream",
          "name": "stdout",
          "text": [
            "['eng', 'arbi', 'math', 'arts']\n",
            "['arbi', 'math', 'arts']\n"
          ]
        }
      ]
    },
    {
      "cell_type": "code",
      "source": [
        "# insert and pop\n",
        "subject_list= [\"eng\",\"urdu\",\"arbi\",\"math\",\"arts\",\"sindhi\",\"s.st\"]\n",
        "subject_list.insert(3,\"pak-std\")\n",
        "print(subject_list)\n",
        "subject_list.insert(2,\"history\")\n",
        "print(\"After inserting\", subject_list)\n",
        "\n",
        "\n",
        "subject_list= [\"eng\",\"urdu\",\"arbi\",\"math\",\"arts\",\"sindhi\",\"s.st\"]\n",
        "subject_list.pop(0)\n",
        "print(\"After popping\", subject_list)\n"
      ],
      "metadata": {
        "colab": {
          "base_uri": "https://localhost:8080/"
        },
        "id": "IdooNVYQagrm",
        "outputId": "5325fc4d-f98b-4df8-d8ba-3722909beb04"
      },
      "execution_count": null,
      "outputs": [
        {
          "output_type": "stream",
          "name": "stdout",
          "text": [
            "['eng', 'urdu', 'arbi', 'pak-std', 'math', 'arts', 'sindhi', 's.st']\n",
            "After inserting ['eng', 'urdu', 'history', 'arbi', 'pak-std', 'math', 'arts', 'sindhi', 's.st']\n",
            "After popping ['urdu', 'arbi', 'math', 'arts', 'sindhi', 's.st']\n"
          ]
        }
      ]
    }
  ]
}