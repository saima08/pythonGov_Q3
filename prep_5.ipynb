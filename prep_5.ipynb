{
  "nbformat": 4,
  "nbformat_minor": 0,
  "metadata": {
    "colab": {
      "provenance": [],
      "authorship_tag": "ABX9TyOi/K7KJQ0pkZqoFrXSLCAf",
      "include_colab_link": true
    },
    "kernelspec": {
      "name": "python3",
      "display_name": "Python 3"
    },
    "language_info": {
      "name": "python"
    }
  },
  "cells": [
    {
      "cell_type": "markdown",
      "metadata": {
        "id": "view-in-github",
        "colab_type": "text"
      },
      "source": [
        "<a href=\"https://colab.research.google.com/github/saima08/pythonGov_Q3/blob/main/prep_5.ipynb\" target=\"_parent\"><img src=\"https://colab.research.google.com/assets/colab-badge.svg\" alt=\"Open In Colab\"/></a>"
      ]
    },
    {
      "cell_type": "markdown",
      "source": [
        "SIR HAMZA CLASS-7"
      ],
      "metadata": {
        "id": "rQ1BNXHnciKF"
      }
    },
    {
      "cell_type": "code",
      "source": [
        "try:\n",
        "  print(10 / 0)\n",
        "except ZeroDivisionError:\n",
        "  print(\"Error:cannot divide by zero\")"
      ],
      "metadata": {
        "colab": {
          "base_uri": "https://localhost:8080/"
        },
        "id": "Q-XpM4qTsyk1",
        "outputId": "8a3c5f81-c915-4c4f-9b9a-93a6cf444fd1"
      },
      "execution_count": 16,
      "outputs": [
        {
          "output_type": "stream",
          "name": "stdout",
          "text": [
            "Error:cannot divide by zero\n"
          ]
        }
      ]
    },
    {
      "cell_type": "code",
      "source": [
        "try:\n",
        "  num =int(input(\"Enter a number: \"))\n",
        "  result = num / 0\n",
        "  print(f\"REsult is {result}\")\n",
        "\n",
        "except ZeroDivisionError:\n",
        "  print(\"Cannot divide by Zero\")\n",
        "\n",
        "except ValueError:\n",
        "  print(\"only numbers are accepted\")\n",
        "except Exception as e:\n",
        "  print(f\"An error occured: {e}\")\n"
      ],
      "metadata": {
        "colab": {
          "base_uri": "https://localhost:8080/"
        },
        "id": "yEcti7cE0XP3",
        "outputId": "7aebee63-c718-4b95-9afa-43f72936d818"
      },
      "execution_count": 21,
      "outputs": [
        {
          "output_type": "stream",
          "name": "stdout",
          "text": [
            "Enter a number: 2\n",
            "Cannot divide by Zero\n"
          ]
        }
      ]
    },
    {
      "cell_type": "markdown",
      "source": [
        "MODULES"
      ],
      "metadata": {
        "id": "VmYgxHeI_Sai"
      }
    },
    {
      "cell_type": "code",
      "source": [
        "#text file bana kr us me function likha.phir leftside me ja kr uoload kia\n",
        "#phir us ko as module import krdia..ignore yello line...\n",
        "import greetings\n",
        "print(greetings.say_hello())"
      ],
      "metadata": {
        "colab": {
          "base_uri": "https://localhost:8080/"
        },
        "id": "mDt9KeJe9u06",
        "outputId": "b1b10eb7-7518-40ef-f724-876f2d1561a2"
      },
      "execution_count": 15,
      "outputs": [
        {
          "output_type": "stream",
          "name": "stdout",
          "text": [
            "Hello Python ! Nice to see you\n"
          ]
        }
      ]
    },
    {
      "cell_type": "code",
      "source": [
        "# ASSIGNMENT\n",
        "\n",
        "joke = \"Sophia is heading out to the grocery store. A programmer tells her: get a liter of milk, and if they have eggs, get 12. Sophia returns with 13 liters of milk. The programmer asks why and Sophia replies: 'because they had eggs'\"\n",
        "\n",
        "\n",
        "sorry = \"Sorry I only tell jokes \"\n",
        "def bot():\n",
        " user_input = input(\"What do you want\")\n",
        "\n",
        " if \"joke\" in user_input:\n",
        "  print(joke)\n",
        " else:\n",
        "  print(sorry)\n",
        "\n",
        "bot()\n"
      ],
      "metadata": {
        "colab": {
          "base_uri": "https://localhost:8080/"
        },
        "id": "mtJeq46ygfgk",
        "outputId": "cc7b4f19-0e6a-4691-a14d-e8a17f8cd436"
      },
      "execution_count": 4,
      "outputs": [
        {
          "output_type": "stream",
          "name": "stdout",
          "text": [
            "What do you wanthow are you\n",
            "Sorry I only tell jokes \n"
          ]
        }
      ]
    },
    {
      "cell_type": "code",
      "source": [
        "curr_value = int(input(\"Enter a number: \"))\n",
        "\n",
        "while curr_value < 100:\n",
        "    curr_value = curr_value * 2\n",
        "    print(f\"Current value: {curr_value}\")"
      ],
      "metadata": {
        "colab": {
          "base_uri": "https://localhost:8080/"
        },
        "id": "YKHi_jsRaIM9",
        "outputId": "fad471e7-ba76-4d83-e75b-388d106fbe99"
      },
      "execution_count": 13,
      "outputs": [
        {
          "output_type": "stream",
          "name": "stdout",
          "text": [
            "Enter a number: 9\n",
            "Current value: 18\n",
            "Current value: 36\n",
            "Current value: 72\n",
            "Current value: 144\n"
          ]
        }
      ]
    },
    {
      "cell_type": "code",
      "source": [
        "curr_value1 =int(input(\"Enter a number:\"))\n",
        "\n",
        "  while curr_value1 <200:\n",
        "    curr_value = curr_value1 * 3\n",
        "    print(fCurrent Value : {Curr_value})"
      ],
      "metadata": {
        "id": "fPWLzZWwdTtM"
      },
      "execution_count": null,
      "outputs": []
    },
    {
      "cell_type": "markdown",
      "source": [
        "MCQS PRACTISE"
      ],
      "metadata": {
        "id": "IzQfZ5RkZ_bk"
      }
    },
    {
      "cell_type": "code",
      "source": [
        "print(int(True))\n",
        "print(int(False))"
      ],
      "metadata": {
        "colab": {
          "base_uri": "https://localhost:8080/"
        },
        "id": "WnfoSc5O4kcO",
        "outputId": "afc3dfd1-270e-4dc3-8628-18b3ecbe9eb7"
      },
      "execution_count": 1,
      "outputs": [
        {
          "output_type": "stream",
          "name": "stdout",
          "text": [
            "1\n",
            "0\n"
          ]
        }
      ]
    },
    {
      "cell_type": "code",
      "source": [
        "b =bool([])\n",
        "print(b)"
      ],
      "metadata": {
        "colab": {
          "base_uri": "https://localhost:8080/"
        },
        "id": "OSt-y6N548F-",
        "outputId": "372581c9-d1f2-4f9b-aa66-1ebebcb9d332"
      },
      "execution_count": 2,
      "outputs": [
        {
          "output_type": "stream",
          "name": "stdout",
          "text": [
            "False\n"
          ]
        }
      ]
    },
    {
      "cell_type": "code",
      "source": [
        "for i in range(3):\n",
        " print(i)"
      ],
      "metadata": {
        "colab": {
          "base_uri": "https://localhost:8080/"
        },
        "id": "1hejz6Kf6wLs",
        "outputId": "9bb69a99-bfbf-4094-e863-80fbc00203a7"
      },
      "execution_count": 3,
      "outputs": [
        {
          "output_type": "stream",
          "name": "stdout",
          "text": [
            "0\n",
            "1\n",
            "2\n"
          ]
        }
      ]
    },
    {
      "cell_type": "code",
      "source": [
        "sum = 0\n",
        "for i in range(1,6):\n",
        "  sum += i\n",
        "print(sum)"
      ],
      "metadata": {
        "colab": {
          "base_uri": "https://localhost:8080/"
        },
        "id": "Lb49Ifqx7Q47",
        "outputId": "dca953d5-b8aa-4395-b364-c26f2392ec89"
      },
      "execution_count": 5,
      "outputs": [
        {
          "output_type": "stream",
          "name": "stdout",
          "text": [
            "15\n"
          ]
        }
      ]
    },
    {
      "cell_type": "code",
      "source": [
        "x =5\n",
        "while x:\n",
        "  print(x)\n",
        "  x -=1"
      ],
      "metadata": {
        "colab": {
          "base_uri": "https://localhost:8080/"
        },
        "id": "vCCm_ENF8d4n",
        "outputId": "c6d48b7b-f10f-4215-fffa-191c9872cddd"
      },
      "execution_count": 6,
      "outputs": [
        {
          "output_type": "stream",
          "name": "stdout",
          "text": [
            "5\n",
            "4\n",
            "3\n",
            "2\n",
            "1\n"
          ]
        }
      ]
    },
    {
      "cell_type": "code",
      "source": [
        "my_list =[1,2,3,4,5]\n",
        "print(my_list[1:4])"
      ],
      "metadata": {
        "colab": {
          "base_uri": "https://localhost:8080/"
        },
        "id": "gbXLEJBC86Mc",
        "outputId": "cb621337-6742-49d2-863a-709e339c21a7"
      },
      "execution_count": 7,
      "outputs": [
        {
          "output_type": "stream",
          "name": "stdout",
          "text": [
            "[2, 3, 4]\n"
          ]
        }
      ]
    },
    {
      "cell_type": "code",
      "source": [
        "tuple2 =(10,20,30)\n",
        "tuple4 =tuple2 *2\n",
        "print(tuple4)"
      ],
      "metadata": {
        "colab": {
          "base_uri": "https://localhost:8080/"
        },
        "id": "2VXOiG5g_KB4",
        "outputId": "0b99ea8a-9389-48f6-cc3a-b4efa0da09d4"
      },
      "execution_count": 8,
      "outputs": [
        {
          "output_type": "stream",
          "name": "stdout",
          "text": [
            "(10, 20, 30, 10, 20, 30)\n"
          ]
        }
      ]
    },
    {
      "cell_type": "code",
      "source": [
        "num = 15\n",
        "if num % 2 == 0:\n",
        "  print(\"Even\")\n",
        "else:\n",
        "  print(\"Odd\")\n"
      ],
      "metadata": {
        "colab": {
          "base_uri": "https://localhost:8080/"
        },
        "id": "1TvzF9PSXI4f",
        "outputId": "57a23d9f-92ce-424a-a338-0263b62eb597"
      },
      "execution_count": 2,
      "outputs": [
        {
          "output_type": "stream",
          "name": "stdout",
          "text": [
            "Even\n"
          ]
        }
      ]
    },
    {
      "cell_type": "code",
      "source": [
        "info = {\n",
        "    \"id\": 101,\n",
        "    \"name\": \"Sara\",\n",
        "\n",
        "}\n",
        "print(info.get(\"id\"))\n",
        "print(info.get(\"age\", \"not found\"))\n",
        "print(info.items())"
      ],
      "metadata": {
        "colab": {
          "base_uri": "https://localhost:8080/"
        },
        "id": "vbeLGLFKXhlW",
        "outputId": "74ec07e6-8395-4122-f2a6-77e5e5b1a9fa"
      },
      "execution_count": 6,
      "outputs": [
        {
          "output_type": "stream",
          "name": "stdout",
          "text": [
            "101\n",
            "not found\n",
            "dict_items([('id', 101), ('name', 'Sara')])\n"
          ]
        }
      ]
    },
    {
      "cell_type": "code",
      "source": [],
      "metadata": {
        "id": "UQWjqjfIYx75"
      },
      "execution_count": null,
      "outputs": []
    }
  ]
}