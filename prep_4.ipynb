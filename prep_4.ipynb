{
  "nbformat": 4,
  "nbformat_minor": 0,
  "metadata": {
    "colab": {
      "provenance": [],
      "authorship_tag": "ABX9TyNAOO0I7aAUB4R9SsLiU+/P",
      "include_colab_link": true
    },
    "kernelspec": {
      "name": "python3",
      "display_name": "Python 3"
    },
    "language_info": {
      "name": "python"
    }
  },
  "cells": [
    {
      "cell_type": "markdown",
      "metadata": {
        "id": "view-in-github",
        "colab_type": "text"
      },
      "source": [
        "<a href=\"https://colab.research.google.com/github/saima08/pythonGov_Q3/blob/main/prep_4.ipynb\" target=\"_parent\"><img src=\"https://colab.research.google.com/assets/colab-badge.svg\" alt=\"Open In Colab\"/></a>"
      ]
    },
    {
      "cell_type": "markdown",
      "source": [
        "SIR HAMZA CLASS-6\n"
      ],
      "metadata": {
        "id": "cLFE8Yip0708"
      }
    },
    {
      "cell_type": "code",
      "source": [
        "#DICTIONARY\n",
        "users ={\n",
        "    \"username\": \"Saima\",\n",
        "    \"age\": 29,\n",
        "    \"city\": \"karachi\",\n",
        "}\n",
        "print(users[\"city\"])\n",
        "print(users[\"username\"])\n",
        "print(users[\"age\"])\n",
        "\n",
        "\n",
        "\n",
        "users[\"username\"] = \"Farah\"\n",
        "print(users[\"username\"])\n",
        "\n",
        "users[\"age\"] = 33\n",
        "print(users[\"age\"])\n",
        "\n",
        "users[\"city\"] = \"NewYark\"\n",
        "print(users[\"city\"])\n",
        "\n",
        "users[\"country\"] = \"Pakistan\"\n",
        "print(users[\"country\"], users[\"city\"])"
      ],
      "metadata": {
        "colab": {
          "base_uri": "https://localhost:8080/"
        },
        "id": "_qmXbh3T1Dxs",
        "outputId": "23960036-daf2-4f3f-9c2b-93cca4d681a3"
      },
      "execution_count": null,
      "outputs": [
        {
          "output_type": "stream",
          "name": "stdout",
          "text": [
            "karachi\n",
            "Saima\n",
            "29\n",
            "Farah\n",
            "33\n",
            "NewYark\n",
            "Pakistan NewYark\n"
          ]
        }
      ]
    },
    {
      "cell_type": "code",
      "source": [
        "# LOOP\n",
        "\n",
        "#for variable name in  (range):\n",
        "for i in range(1,6):\n",
        "  print(i)\n",
        "\n",
        "\n",
        "students =[\"Ali\",\"Saba\",\"Sara\",\"Noor\",\"Saima\",\"Nesha\",\"Neeha\"]\n",
        "for students in students:\n",
        "  print(students)\n",
        "\n",
        "fruits=[\"anar\",\"kela\",\"rasberry\",\"tarbooz\",\"malta\"]\n",
        "for fruits in fruits:\n",
        "  print(fruits)\n",
        "\n",
        "alphabets =[\"a\",\"b\",\"c\",\"d\",\"e\",\"f\"]\n",
        "for alphabets in alphabets:\n",
        "  print(alphabets)\n"
      ],
      "metadata": {
        "colab": {
          "base_uri": "https://localhost:8080/"
        },
        "id": "H4rBD98G56Jv",
        "outputId": "4240f44b-ea87-4083-9942-fac94ca1662c"
      },
      "execution_count": null,
      "outputs": [
        {
          "output_type": "stream",
          "name": "stdout",
          "text": [
            "1\n",
            "2\n",
            "3\n",
            "4\n",
            "5\n",
            "Ali\n",
            "Saba\n",
            "Sara\n",
            "Noor\n",
            "Saima\n",
            "Nesha\n",
            "Neeha\n",
            "anar\n",
            "kela\n",
            "rasberry\n",
            "tarbooz\n",
            "malta\n",
            "a\n",
            "b\n",
            "c\n",
            "d\n",
            "e\n",
            "f\n"
          ]
        }
      ]
    },
    {
      "cell_type": "code",
      "source": [
        "#GUESSING GAME\n",
        "\n",
        "correct_number = 6\n",
        "guess = 0\n",
        "while guess != correct_number:\n",
        " guess = int(input(\"Guess the correct number:  \"))\n",
        " print(\"Incorrect guess, Try again\" if guess != correct_number else \"Correct guess\")\n",
        " print(\"Thank you for playing game\")\n"
      ],
      "metadata": {
        "colab": {
          "base_uri": "https://localhost:8080/"
        },
        "id": "4_RZKTlf_B3b",
        "outputId": "ac47f5c0-f3b4-4a83-dc58-329bd7ad9a92"
      },
      "execution_count": null,
      "outputs": [
        {
          "output_type": "stream",
          "name": "stdout",
          "text": [
            "Guess the correct number:  4\n",
            "Incorrect guess, Try again\n",
            "Thank you for playing game\n",
            "Guess the correct number:  6\n",
            "Correct guess\n",
            "Thank you for playing game\n"
          ]
        }
      ]
    },
    {
      "cell_type": "code",
      "source": [
        "# While Loop\n",
        "countdown = 10\n",
        "while countdown >= 1 :\n",
        "\n",
        "\n",
        "  print(f\"{countdown}. . .\")\n",
        "  countdown -=1\n",
        "  print(\"Happy Birth day\") #agr prin ko indent kia to ye hr number k baad aye ga\n",
        "  # wrna last me print hoga kyon ke ye while loop le andr chale ga.agr space na\n",
        "  #den to ye while loop ke bahar chale ga\n",
        "\n",
        "\n",
        "countdown = 10\n",
        "while countdown >= 5 :\n",
        "  print(f\"{countdown}. . .\")\n",
        "  countdown -=1\n",
        "print(\"Happy Birth day\")\n"
      ],
      "metadata": {
        "colab": {
          "base_uri": "https://localhost:8080/"
        },
        "id": "rfq7Ped2R42e",
        "outputId": "29a4e3d3-2a06-41b4-aa56-5029f12fa48a"
      },
      "execution_count": null,
      "outputs": [
        {
          "output_type": "stream",
          "name": "stdout",
          "text": [
            "10. . .\n",
            "Happy Birth day\n",
            "9. . .\n",
            "Happy Birth day\n",
            "8. . .\n",
            "Happy Birth day\n",
            "7. . .\n",
            "Happy Birth day\n",
            "6. . .\n",
            "Happy Birth day\n",
            "5. . .\n",
            "Happy Birth day\n",
            "4. . .\n",
            "Happy Birth day\n",
            "3. . .\n",
            "Happy Birth day\n",
            "2. . .\n",
            "Happy Birth day\n",
            "1. . .\n",
            "Happy Birth day\n",
            "10. . .\n",
            "9. . .\n",
            "8. . .\n",
            "7. . .\n",
            "6. . .\n",
            "5. . .\n",
            "Happy Birth day\n"
          ]
        }
      ]
    },
    {
      "cell_type": "code",
      "source": [
        "import time\n",
        "countdown = 10\n",
        "while countdown >= 5 :\n",
        "\n",
        "  print(f\"{countdown}. . .\")\n",
        "  countdown -=1\n",
        "time.sleep(10)\n",
        "\n",
        "print(\"Happy Birth day\")\n"
      ],
      "metadata": {
        "colab": {
          "base_uri": "https://localhost:8080/"
        },
        "id": "vomxOrjlxOmB",
        "outputId": "4621268c-f936-486f-b398-e1ecb6a18ac1"
      },
      "execution_count": null,
      "outputs": [
        {
          "output_type": "stream",
          "name": "stdout",
          "text": [
            "10. . .\n",
            "9. . .\n",
            "8. . .\n",
            "7. . .\n",
            "6. . .\n",
            "5. . .\n",
            "Happy Birth day\n"
          ]
        }
      ]
    },
    {
      "cell_type": "code",
      "source": [
        "numbers =[1,2,3,3,4,5]\n",
        "print(numbers[1] * 2)\n",
        "print(numbers[2] * 2)\n",
        "print(numbers[3] * 2)\n",
        "print(numbers[4] * 2)\n",
        "print(numbers[5] * 2)"
      ],
      "metadata": {
        "colab": {
          "base_uri": "https://localhost:8080/"
        },
        "id": "fXXqmFRBr65u",
        "outputId": "fafd1f8f-68d4-4b92-9988-51f9b4a45ab3"
      },
      "execution_count": null,
      "outputs": [
        {
          "output_type": "stream",
          "name": "stdout",
          "text": [
            "4\n",
            "6\n",
            "6\n",
            "8\n",
            "10\n"
          ]
        }
      ]
    },
    {
      "cell_type": "markdown",
      "source": [],
      "metadata": {
        "id": "Pum8Hwrc076I"
      }
    },
    {
      "cell_type": "code",
      "source": [
        "#SQUARE ROOT BY FORLOOP\n",
        "\n",
        "#import time\n",
        "numbers =[1,2,3,4,5,6,]\n",
        "#time.sleep(5)\n",
        "for num in numbers:\n",
        "  print(num ** 2)\n",
        "\n",
        "\n",
        "  numbers =[8,7,5,6,3,2]\n",
        "for num in numbers:\n",
        "  print(num ** 2)"
      ],
      "metadata": {
        "colab": {
          "base_uri": "https://localhost:8080/"
        },
        "id": "LnE_hCSHskio",
        "outputId": "31bb32cd-50a5-40a2-ec10-1439cc5100fe"
      },
      "execution_count": null,
      "outputs": [
        {
          "output_type": "stream",
          "name": "stdout",
          "text": [
            "1\n",
            "4\n",
            "9\n",
            "16\n",
            "25\n",
            "36\n",
            "64\n",
            "49\n",
            "25\n",
            "36\n",
            "9\n",
            "4\n"
          ]
        }
      ]
    },
    {
      "cell_type": "code",
      "source": [
        "#jb number of iteration pata ho ke loop kitni baar chalana he to for loop use hoga\n",
        "#while loop ko condition ke zarye control krte hen"
      ],
      "metadata": {
        "id": "D6rYCHIDu8a7"
      },
      "execution_count": null,
      "outputs": []
    },
    {
      "cell_type": "markdown",
      "source": [
        "SIR HAMZA CLASS-7"
      ],
      "metadata": {
        "id": "letOuVv3vjjY"
      }
    },
    {
      "cell_type": "code",
      "source": [
        "#ERROR HANDLING\n",
        "\n",
        "try:\n",
        "  num =int(input(\"Enter a number: \"))\n",
        "  result = num / 10\n",
        "  print(f\"REsult is {result}\")\n",
        "\n",
        "except ZeroDivisionError:\n",
        "  print(\"Cannot divide by Zero\")\n",
        "\n",
        "except ValueError:\n",
        "  print(\"only numbers are accepted\")\n"
      ],
      "metadata": {
        "colab": {
          "base_uri": "https://localhost:8080/"
        },
        "id": "6Ok8JCYbvoXR",
        "outputId": "f4d1e01c-e417-4c08-f295-036b2eb70295"
      },
      "execution_count": null,
      "outputs": [
        {
          "output_type": "stream",
          "name": "stdout",
          "text": [
            "Enter a number: n\n",
            "only numbers are accepted\n"
          ]
        }
      ]
    }
  ]
}