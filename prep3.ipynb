{
  "nbformat": 4,
  "nbformat_minor": 0,
  "metadata": {
    "colab": {
      "provenance": [],
      "authorship_tag": "ABX9TyPedMsujeQFPAl+z5WGVaIb",
      "include_colab_link": true
    },
    "kernelspec": {
      "name": "python3",
      "display_name": "Python 3"
    },
    "language_info": {
      "name": "python"
    }
  },
  "cells": [
    {
      "cell_type": "markdown",
      "metadata": {
        "id": "view-in-github",
        "colab_type": "text"
      },
      "source": [
        "<a href=\"https://colab.research.google.com/github/saima08/pythonGov_Q3/blob/main/prep3.ipynb\" target=\"_parent\"><img src=\"https://colab.research.google.com/assets/colab-badge.svg\" alt=\"Open In Colab\"/></a>"
      ]
    },
    {
      "cell_type": "code",
      "execution_count": null,
      "metadata": {
        "id": "fQmUjuc4VORj"
      },
      "outputs": [],
      "source": []
    },
    {
      "cell_type": "markdown",
      "source": [
        "SIR HAMZA CLASS-5\n"
      ],
      "metadata": {
        "id": "cRqnVRLhW8Tq"
      }
    },
    {
      "cell_type": "code",
      "source": [
        "#FUNCTION\n",
        "def greet(name):\n",
        "  print(f\"Hello {name}\")\n",
        "greet(\"Saima\")\n",
        "greet(\"Farah\")\n",
        "\n",
        "\n",
        "def add_two(a,b):\n",
        "  c = a +b\n",
        "  return c\n",
        "add_two(20,3)\n",
        "\n",
        "\n"
      ],
      "metadata": {
        "colab": {
          "base_uri": "https://localhost:8080/"
        },
        "id": "r2EYJLnmd-Hn",
        "outputId": "a776f016-0fb3-4791-8fc4-5f6b40ee7f74"
      },
      "execution_count": null,
      "outputs": [
        {
          "output_type": "stream",
          "name": "stdout",
          "text": [
            "Hello Saima\n",
            "Hello Farah\n"
          ]
        },
        {
          "output_type": "execute_result",
          "data": {
            "text/plain": [
              "23"
            ]
          },
          "metadata": {},
          "execution_count": 18
        }
      ]
    },
    {
      "cell_type": "code",
      "source": [
        "\n",
        "def subtract_two(d,e):\n",
        "  f = d -e\n",
        "  return f\n",
        "subtract_two(15,3)\n",
        "\n",
        "def multiply(a,b):\n",
        "  c = a * b\n",
        "  return c\n",
        "multiply(2,18)\n",
        "\n"
      ],
      "metadata": {
        "colab": {
          "base_uri": "https://localhost:8080/"
        },
        "id": "sOdir1tyu93j",
        "outputId": "9e5a36e2-e2df-444b-ba0c-31c4946a6430"
      },
      "execution_count": null,
      "outputs": [
        {
          "output_type": "execute_result",
          "data": {
            "text/plain": [
              "36"
            ]
          },
          "metadata": {},
          "execution_count": 19
        }
      ]
    },
    {
      "cell_type": "code",
      "source": [
        "def add_two(a =2, b= 3):\n",
        "  c = a + b\n",
        "  return c\n",
        "add_two(10,20)\n",
        "\n",
        "\n",
        "\n"
      ],
      "metadata": {
        "id": "_QXzaJzEd-Nk",
        "colab": {
          "base_uri": "https://localhost:8080/"
        },
        "outputId": "fbdadf4e-d691-4d17-a1a9-74b0854cc0c2"
      },
      "execution_count": null,
      "outputs": [
        {
          "output_type": "execute_result",
          "data": {
            "text/plain": [
              "30"
            ]
          },
          "metadata": {},
          "execution_count": 23
        }
      ]
    }
  ]
}