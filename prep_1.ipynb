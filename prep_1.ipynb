{
  "nbformat": 4,
  "nbformat_minor": 0,
  "metadata": {
    "colab": {
      "provenance": [],
      "authorship_tag": "ABX9TyPbwKvsWIsBZZnjp31XJE49",
      "include_colab_link": true
    },
    "kernelspec": {
      "name": "python3",
      "display_name": "Python 3"
    },
    "language_info": {
      "name": "python"
    }
  },
  "cells": [
    {
      "cell_type": "markdown",
      "metadata": {
        "id": "view-in-github",
        "colab_type": "text"
      },
      "source": [
        "<a href=\"https://colab.research.google.com/github/saima08/pythonGov_Q3/blob/main/prep_1.ipynb\" target=\"_parent\"><img src=\"https://colab.research.google.com/assets/colab-badge.svg\" alt=\"Open In Colab\"/></a>"
      ]
    },
    {
      "cell_type": "code",
      "execution_count": 7,
      "metadata": {
        "id": "VW66QhSV9uqs",
        "colab": {
          "base_uri": "https://localhost:8080/"
        },
        "outputId": "b7583f33-01db-4b05-bdc6-1ce43826d6f7"
      },
      "outputs": [
        {
          "output_type": "stream",
          "name": "stdout",
          "text": [
            "Hello Python\n",
            "Saima\n",
            "789\n",
            "My name is Saima\n",
            "Lucky number isis987665543\n"
          ]
        }
      ],
      "source": [
        "print(\"Hello Python\")\n",
        "\n",
        "fav_celeb:str =\"Saima\"\n",
        "print(fav_celeb)\n",
        "imp_num:int= 789\n",
        "print(imp_num)\n",
        "sentence:str=\"My name is \"\n",
        "name:str=\"Saima\"\n",
        "print(sentence + name)\n",
        "sent:str=\"Lucky number is\"\n",
        "number:str= \"is987665543\"\n",
        "print(sent + number)"
      ]
    },
    {
      "cell_type": "markdown",
      "source": [
        "**Sir Hamza class 2\n",
        "**"
      ],
      "metadata": {
        "id": "bMXgSE7RFUk_"
      }
    },
    {
      "cell_type": "code",
      "source": [
        "a =3\n",
        "b =6\n",
        "result= a +b\n",
        "print(\"Addition:\", result)\n",
        "result= a - b\n",
        "print(\"Subtacion:\", result)\n",
        "result= a * b\n",
        "print(\"Multiplicationtion:\", result)\n",
        "result= a / b\n",
        "print(\"Divisiontion:\", result)\n",
        "result= a % b\n",
        "print(\"Modulous:\", result)\n",
        "result= a ** b\n",
        "print(\"Exponent:\", result)\n",
        "num1 =99 % 10\n",
        "print(num1)\n",
        "\n",
        "num2 =45 % 6\n",
        "print(num2)\n",
        "\n",
        "num3 =8 % 3\n",
        "print(num3)\n"
      ],
      "metadata": {
        "colab": {
          "base_uri": "https://localhost:8080/"
        },
        "id": "8P4-uQSAMid8",
        "outputId": "43f9817b-373c-4961-e27d-a4e24da15af7"
      },
      "execution_count": 85,
      "outputs": [
        {
          "output_type": "stream",
          "name": "stdout",
          "text": [
            "Addition: 9\n",
            "Subtacion: -3\n",
            "Multiplicationtion: 18\n",
            "Divisiontion: 0.5\n",
            "Modulous: 3\n",
            "Exponent: 729\n",
            "9\n",
            "3\n",
            "2\n"
          ]
        }
      ]
    },
    {
      "cell_type": "code",
      "source": [
        "name:str=\"Saima\"\n",
        "print(type(name))\n",
        "number:int= 987\n",
        "print(f\"My name is\", name, number)\n",
        "age:int=44\n",
        "edu:str =\"Masters\"\n",
        "print(f\"My age is\", age , f\"and My education is \", edu)\n",
        "print(f\"My name is {name}\")\n",
        "\n",
        "print(\"\"\"My name is Saima\n",
        "and I am a developer\n",
        "learning in\n",
        "Governor House.\"\"\")\n",
        "\n",
        "first_name:str=\"Farah\"\n",
        "sec_name:str=\"Saima\"\n",
        "print(f\"\"\" Hi {first_name}\n",
        "you 've got free coupon\n",
        "from our company\n",
        "from Sir Humza\n",
        "dated:April12\"\"\"\n",
        "      )\n",
        "print(f\"\"\" Hi {sec_name}\n",
        "you 've got free coupon\n",
        "from our company\n",
        "from Sir Humza\n",
        "dated:April12\"\"\"\n",
        "      )"
      ],
      "metadata": {
        "colab": {
          "base_uri": "https://localhost:8080/"
        },
        "id": "iFZz3fvNFfYH",
        "outputId": "cf709e69-e5c2-4b65-859a-d16d6cb832b4"
      },
      "execution_count": 22,
      "outputs": [
        {
          "output_type": "stream",
          "name": "stdout",
          "text": [
            "<class 'str'>\n",
            "My name is Saima 987\n",
            "My age is 44 and My education is  Masters\n",
            "My name is Saima\n",
            "My name is Saima\n",
            "and I am a developer \n",
            "learning in\n",
            "Governor House.\n",
            " Hi Farah\n",
            "you 've got free coupon \n",
            "from our company\n",
            "from Sir Humza\n",
            "dated:April12\n",
            " Hi Saima\n",
            "you 've got free coupon \n",
            "from our company\n",
            "from Sir Humza\n",
            "dated:April12\n"
          ]
        }
      ]
    },
    {
      "cell_type": "markdown",
      "source": [
        "**SIR HAMZA CLASS-\n",
        "3**"
      ],
      "metadata": {
        "id": "5VYGQsmxw92v"
      }
    },
    {
      "cell_type": "code",
      "source": [
        "is_loggedin = True\n",
        "are_road_closed = True\n",
        "is_internat_closed = False\n",
        "print(is_loggedin)\n",
        "print(type(is_loggedin))\n",
        "\n",
        "a = 10\n",
        "b == 20\n",
        "print( a!=b)\n",
        "print( a>b)\n",
        "print( a<b)\n",
        "print( a>=b)\n"
      ],
      "metadata": {
        "colab": {
          "base_uri": "https://localhost:8080/"
        },
        "id": "PaUxB_FrRJmJ",
        "outputId": "c6292f25-55a8-4a7f-eb7e-1db236ca5949"
      },
      "execution_count": 35,
      "outputs": [
        {
          "output_type": "stream",
          "name": "stdout",
          "text": [
            "True\n",
            "<class 'bool'>\n",
            "True\n",
            "True\n",
            "False\n",
            "True\n"
          ]
        }
      ]
    },
    {
      "cell_type": "code",
      "source": [
        "my_age =30\n",
        "if (my_age > 18):\n",
        "    print(\"You are eligible to vote\")\n",
        "else:\n",
        "    print(\"You are not eligible to vote\")"
      ],
      "metadata": {
        "colab": {
          "base_uri": "https://localhost:8080/"
        },
        "id": "LEM-VAE7hxx4",
        "outputId": "22a60783-f32d-4e05-8ee5-0927bdd8b4fd"
      },
      "execution_count": 53,
      "outputs": [
        {
          "output_type": "stream",
          "name": "stdout",
          "text": [
            "You are eligible to vote\n"
          ]
        }
      ]
    },
    {
      "cell_type": "code",
      "source": [
        "name = input(\"Enter your name\")\n",
        "print(f\"Hello, {name} ,Eid Mubarak\")\n",
        "\n",
        "age = input(\"Enter your age\")\n",
        "print(f\"Your age is {age} years old\")"
      ],
      "metadata": {
        "colab": {
          "base_uri": "https://localhost:8080/"
        },
        "id": "ltA5C4Qol45_",
        "outputId": "7e445899-46ca-480f-aa5c-4309d4c622bc"
      },
      "execution_count": 60,
      "outputs": [
        {
          "output_type": "stream",
          "name": "stdout",
          "text": [
            "Enter your namesana\n",
            "Hello, sana ,Eid Mubarak\n",
            "Enter your age23\n",
            "Your age is 23 years old\n"
          ]
        }
      ]
    },
    {
      "cell_type": "code",
      "source": [
        "age =int(input(\"Enter your age:\"))\n",
        "if (age == 18):\n",
        "    print(\"You are eighteen\")\n",
        "elif (age < 18):\n",
        "    print(\"You are under eighteen\")\n",
        "elif(age ==30):\n",
        "    print(\"You are thirty\")\n",
        "elif(age ==40):\n",
        "    print(\"You are   forty\")\n",
        "elif(age ==60):\n",
        "    print(\"You are age of retirement\")\n",
        "elif(age ==90):\n",
        "    print(\"Your are ninety\")\n",
        "elif(age>140):\n",
        " print(\"You are GHost\")\n",
        "else:\n",
        "    print(\"You are wasting your time\")\n",
        "\n",
        "\n",
        "\n",
        "\n"
      ],
      "metadata": {
        "colab": {
          "base_uri": "https://localhost:8080/"
        },
        "id": "tfro6uj4nn9S",
        "outputId": "1eb23c39-259c-420a-ffce-57978bb8b651"
      },
      "execution_count": 84,
      "outputs": [
        {
          "output_type": "stream",
          "name": "stdout",
          "text": [
            "Enter your age:142\n",
            "You are GHost\n"
          ]
        }
      ]
    },
    {
      "cell_type": "code",
      "source": [],
      "metadata": {
        "id": "uXBHEljjveFf"
      },
      "execution_count": null,
      "outputs": []
    }
  ]
}